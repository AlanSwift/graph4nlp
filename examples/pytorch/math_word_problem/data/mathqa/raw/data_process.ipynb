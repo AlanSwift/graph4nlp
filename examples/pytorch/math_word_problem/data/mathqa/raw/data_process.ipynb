{
 "metadata": {
  "language_info": {
   "codemirror_mode": {
    "name": "ipython",
    "version": 3
   },
   "file_extension": ".py",
   "mimetype": "text/x-python",
   "name": "python",
   "nbconvert_exporter": "python",
   "pygments_lexer": "ipython3",
   "version": "3.8.3-final"
  },
  "orig_nbformat": 2,
  "kernelspec": {
   "name": "python3",
   "display_name": "Python 3"
  }
 },
 "nbformat": 4,
 "nbformat_minor": 2,
 "cells": [
  {
   "cell_type": "code",
   "execution_count": 3,
   "metadata": {},
   "outputs": [],
   "source": [
    "with open(\"raw_data_for_preprocess/train.txt\", \"r\") as f:\n",
    "    with open(\"./train_1.txt\", \"w\") as g:\n",
    "        lines = f.readlines()\n",
    "        cnt = 0\n",
    "        for l in lines:\n",
    "            if cnt % 10 == 0:\n",
    "                g.write(l)\n",
    "            cnt += 1"
   ]
  },
  {
   "cell_type": "code",
   "execution_count": null,
   "metadata": {},
   "outputs": [],
   "source": []
  }
 ]
}