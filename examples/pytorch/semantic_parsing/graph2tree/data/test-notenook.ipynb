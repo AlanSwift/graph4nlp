{
 "metadata": {
  "language_info": {
   "codemirror_mode": {
    "name": "ipython",
    "version": 3
   },
   "file_extension": ".py",
   "mimetype": "text/x-python",
   "name": "python",
   "nbconvert_exporter": "python",
   "pygments_lexer": "ipython3",
   "version": "3.8.3-final"
  },
  "orig_nbformat": 2,
  "kernelspec": {
   "name": "python3",
   "display_name": "Python 3"
  }
 },
 "nbformat": 4,
 "nbformat_minor": 2,
 "cells": [
  {
   "cell_type": "code",
   "execution_count": 6,
   "metadata": {},
   "outputs": [
    {
     "output_type": "stream",
     "name": "stdout",
     "text": [
      "94\n"
     ]
    }
   ],
   "source": [
    "with open(\"./geo/raw/test.txt\", \"r\") as f:\n",
    "    lines = f.readlines()\n",
    "    max_len = -1\n",
    "    for l in lines:\n",
    "        if len(l.split('\\t')[1].split()) > max_len:\n",
    "            max_len = len(l.split('\\t')[1].split()) \n",
    "print(max_len)"
   ]
  },
  {
   "cell_type": "code",
   "execution_count": 9,
   "metadata": {},
   "outputs": [
    {
     "output_type": "stream",
     "name": "stdout",
     "text": [
      "24\n"
     ]
    }
   ],
   "source": [
    "with open(\"./geo/raw/test.txt\", \"r\") as f:\n",
    "    lines = f.readlines()\n",
    "    max_brac = -1\n",
    "    for l in lines:\n",
    "        if l.split('\\t')[1].count('(') > max_brac:\n",
    "            max_brac = l.split('\\t')[1].count('(')\n",
    "print(max_brac)"
   ]
  },
  {
   "cell_type": "code",
   "execution_count": null,
   "metadata": {},
   "outputs": [],
   "source": []
  }
 ]
}